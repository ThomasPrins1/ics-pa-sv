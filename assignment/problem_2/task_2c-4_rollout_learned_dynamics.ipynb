{
 "cells": [
  {
   "cell_type": "markdown",
   "id": "ac408b5e",
   "metadata": {
    "deletable": false,
    "editable": false,
    "nbgrader": {
     "cell_type": "markdown",
     "checksum": "cc639f114a2869c4d2f09a3fb9299a08",
     "grade": false,
     "grade_id": "cell-b00828259c8e42e8",
     "locked": true,
     "schema_version": 3,
     "solution": false,
     "task": false
    }
   },
   "source": [
    "# RO47019: Intelligent Control Systems Practical Assignment\n",
    "* Period: 2024-2025, Q4\n",
    "* Course homepage: https://brightspace.tudelft.nl/d2l/home/682445\n",
    "* Instructor: Cosimo Della Santina (C.DellaSantina@tudelft.nl)\n",
    "* Teaching assistant: Niels Stienen (N.L.Stienen@student.tudelft.nl)\n",
    "* (c) TU Delft, 2025\n",
    "\n",
    "Make sure you fill in any place that says `YOUR CODE HERE` or `YOUR ANSWER HERE` and remove `raise NotImplementedError()` afterwards. Moreover, if you see an empty cell, please **do not** delete it, instead run that cell as you would run all other cells. Finally, please **do not** add any extra cells to this notebook or change the existing cells unless you are explicitly asked to do so.\n",
    "\n",
    "Please fill in your name(s) and other required details below:"
   ]
  },
  {
   "cell_type": "code",
   "execution_count": null,
   "id": "4f9e220c",
   "metadata": {},
   "outputs": [],
   "source": [
    "# Please fill in your names, student numbers, netID, and emails below.\n",
    "STUDENT_1_NAME = \"\"\n",
    "STUDENT_1_STUDENT_NUMBER = \"\"\n",
    "STUDENT_1_NETID = \"\"\n",
    "STUDENT_1_EMAIL = \"\""
   ]
  },
  {
   "cell_type": "code",
   "execution_count": null,
   "id": "8ba32571",
   "metadata": {
    "deletable": false,
    "editable": false,
    "nbgrader": {
     "cell_type": "code",
     "checksum": "042927213b84aa368aa3ea72caa4cb60",
     "grade": true,
     "grade_id": "cell-9f148ec62e0de49c",
     "locked": true,
     "points": 0,
     "schema_version": 3,
     "solution": false,
     "task": false
    }
   },
   "outputs": [],
   "source": [
    "# Note: this block is a check that you have filled in the above information.\n",
    "# It will throw an AssertionError until all fields are filled\n",
    "assert STUDENT_1_NAME != \"\"\n",
    "assert STUDENT_1_STUDENT_NUMBER != \"\"\n",
    "assert STUDENT_1_NETID != \"\"\n",
    "assert STUDENT_1_EMAIL != \"\""
   ]
  },
  {
   "cell_type": "markdown",
   "id": "af317a94",
   "metadata": {
    "deletable": false,
    "editable": false,
    "nbgrader": {
     "cell_type": "markdown",
     "checksum": "e1ac82f761cd49715da5f2adb9bea9f2",
     "grade": false,
     "grade_id": "cell-4ea391677951116c",
     "locked": true,
     "schema_version": 3,
     "solution": false,
     "task": false
    }
   },
   "source": [
    "### General announcements\n",
    "\n",
    "* Do *not* share your solutions (also after the course is finished), and do *not* copy solutions from others. By submitting your solutions, you claim that you alone are responsible for this code.\n",
    "\n",
    "* Please post your questions regarding this assignment in the correct support forum on Brightspace, this way everybody can benefit from the response. Please note that it is **not** allowed to post any code relating to solution attempts. If you do have a particular question that you want to ask directly, please use the scheduled Q&A hours to ask the TA or if not possible otherwise, send an email to the instructor or TA.\n",
    "\n",
    "* This notebook will have in various places a line that throws a `NotImplementedError` exception. These are locations where the assignment requires you to adapt the code! These lines are just there as a reminder for you that you have not yet adapted that particular piece of code, especially when you execute all the cells. Once your solution code replaced these lines, it should accordingly *not* throw any exceptions anymore.\n",
    "\n",
    "* This [Jupyter notebook](https://jupyter.org/) uses `nbgrader` to help us with automated tests. `nbgrader` will make various cells in this notebook \"uneditable\" or \"unremovable\" and gives them a special id in the cell metadata. This way, when we run our checks, the system will check the existence of the cell ids and verify the number of points and which checks must be run. While there are ways that you can edit the metadata and work around the restrictions to delete or modify these special cells, you should not do that since then our nbgrader backend will not be able to parse your notebook and give you points for the assignment. \n",
    "\n",
    "* Please note that the above mentioned _read-only_ protection only works in Jupyter Notebook, and it does not work if you open this notebook in another editor (e.g., VSCode, PyCharm, etc.). Therefore, we recommend that you only use Jupyter Notebook for this course. If you use any other editor, you may accidentally delete cells, modify the tests, etc., which would cause you to lose points.\n",
    "\n",
    "* If you edit a function that is imported in another notebook, you need to **restart the kernel** of the notebook where you are using the function. Otherwise, the changes will not be effective.\n",
    "\n",
    "* **IMPORTANT**: Please make sure that your code executes without any errors before submitting the notebook. An easy way to ensure this is to use the validation script as described in the README."
   ]
  },
  {
   "cell_type": "code",
   "execution_count": null,
   "id": "3c956945",
   "metadata": {},
   "outputs": [],
   "source": []
  },
  {
   "cell_type": "markdown",
   "id": "387d2c60",
   "metadata": {
    "deletable": false,
    "editable": false,
    "nbgrader": {
     "cell_type": "markdown",
     "checksum": "a1907b76db710f7b03fdcdb1c3c465c3",
     "grade": false,
     "grade_id": "cell-ed88010142fb94bb",
     "locked": true,
     "schema_version": 3,
     "solution": false,
     "task": false
    }
   },
   "source": [
    "# Task 2c.4 - Rollout of the learned dynamics (15p)\n",
    "\n",
    "**Author:** Maximilian Stölzle\n",
    "\n",
    "**For inquiries, contact:** Jingyue Liu (J.Liu-14@tudelft.nl)\n",
    "\n",
    "The goal of this task is to verify the accuracy of the learned dynamics. Namely, we will compare how well the learned dynamics match the nominal dynamics. We do this by initializing both the nominal and the learned dynamics at the same initial conditions (e.g. $\\theta(0)$ and $\\dot{\\theta}(0)$) and let both dynamics naturally evolve for 10s without applying any external torque to the links. We can then compute error metrics between the trajectory of the nominal and the learned system.\n",
    "\n",
    "If you correctly implement this task, you will receive a baseline of 3 points. The remaining 12 points are distributed based on the prediction performance of your trained Lagrangian neural network. You will receive full points for this task if the Euclidean norm of the RMSE of the end-effector position between the nominal and the learned dynamics is **below** 0.10 m. If the error is between 0.10 m and 3.00 m, your grade will be linearly scaled with the error. However, if the error is larger than 3.00 m, you will not receive any credits for the performance of the Lagrangian neural network.\n",
    "\n",
    "**Hint:** If your rollout performance is bad / not sufficient and you pass all the checks in the notebooks corresponding to tasks 2c.2-3, you are probably training your LNN on an unevenly distributed dataset / the dataset is not well-trained on the states that we visit during the rollout. Therefore, please tune the parameters of the dataset collection in Task 2c.1."
   ]
  },
  {
   "cell_type": "code",
   "execution_count": null,
   "id": "35339f62",
   "metadata": {
    "deletable": false,
    "editable": false,
    "nbgrader": {
     "cell_type": "code",
     "checksum": "a1a144fc18f4d303468b4a2e7cfb79b0",
     "grade": false,
     "grade_id": "cell-e33520fa3a4d3861",
     "locked": true,
     "schema_version": 3,
     "solution": false,
     "task": false
    }
   },
   "outputs": [],
   "source": [
    "# Reloads the python files outside of this notebook automatically\n",
    "%load_ext autoreload\n",
    "%autoreload 2\n",
    "\n",
    "# import all Python modules\n",
    "import dill\n",
    "from distutils.util import strtobool\n",
    "from functools import partial\n",
    "from IPython.display import display, HTML  # For animations in the notebook\n",
    "import jax\n",
    "\n",
    "jax.config.update(\"jax_platforms\", \"cpu\")  # set default device to 'cpu'\n",
    "jax.config.update(\"jax_enable_x64\", True)  # double precision\n",
    "from jax import jit, lax, random\n",
    "from jax import numpy as jnp\n",
    "from matplotlib import rcParams\n",
    "import matplotlib.pyplot as plt\n",
    "import os\n",
    "from pathlib import Path\n",
    "from progressbar import progressbar\n",
    "from typing import Dict, Tuple\n",
    "\n",
    "from jax_double_pendulum.analysis import *\n",
    "from jax_double_pendulum.robot_parameters import ROBOT_PARAMS\n",
    "from jax_double_pendulum.robot_simulation import simulate_robot\n",
    "from jax_double_pendulum.visualization import animate_robot\n",
    "\n",
    "from lnn_analysis import (\n",
    "    plot_rollout_learned_dynamics_configuration_space,\n",
    "    plot_rollout_learned_dynamics_operational_space,\n",
    ")\n",
    "\n",
    "# define boolean to check if the notebook is run for the purposes of autograding\n",
    "AUTOGRADING = strtobool(os.environ.get(\"AUTOGRADING\", \"false\"))\n",
    "# define tolerances for grading\n",
    "RTOL = float(os.environ.get(\"RTOL\", \"1e-4\"))  # relative tolerance\n",
    "ATOL = float(os.environ.get(\"ATOL\", \"1e-7\"))  # absolute tolerance"
   ]
  },
  {
   "cell_type": "code",
   "execution_count": null,
   "id": "fb6caf69",
   "metadata": {
    "deletable": false,
    "editable": false,
    "nbgrader": {
     "cell_type": "code",
     "checksum": "b7b6955f5a8e1f2b889cd3feaae9a34f",
     "grade": false,
     "grade_id": "cell-7fd75e6a560076ab",
     "locked": true,
     "schema_version": 3,
     "solution": false,
     "task": false
    }
   },
   "outputs": [],
   "source": [
    "# simulation parameters\n",
    "sim_duration = 10.0  # [s]\n",
    "sim_dt = 1e-2  # [s]\n",
    "\n",
    "# define initial condition\n",
    "th_0 = jnp.array([0.0, 0.0])  # [rad]\n",
    "th_d_0 = jnp.array([0.0, 0.0])  # [rad/s]\n",
    "\n",
    "# define time steps\n",
    "t_ts = sim_dt * jnp.arange(int(sim_duration / sim_dt))\n",
    "\n",
    "# define folder where to save animations and plots\n",
    "outputs_dir = Path(\"outputs\")\n",
    "outputs_dir.mkdir(parents=True, exist_ok=True)\n",
    "\n",
    "# simulate the nominal (i.e. first-principle) dynamics\n",
    "nominal_sim_ts = simulate_robot(\n",
    "    rp=ROBOT_PARAMS,\n",
    "    t_ts=t_ts,\n",
    "    th_0=th_0,\n",
    "    th_d_0=th_d_0,\n",
    ")"
   ]
  },
  {
   "cell_type": "code",
   "execution_count": null,
   "id": "9a463d0e",
   "metadata": {
    "deletable": false,
    "nbgrader": {
     "cell_type": "code",
     "checksum": "9e8b93c795e528a352e3290c2d005e25",
     "grade": false,
     "grade_id": "cell-fb9997e254f1db1d",
     "locked": false,
     "schema_version": 3,
     "solution": true,
     "task": false
    }
   },
   "outputs": [],
   "source": [
    "# load the save neural network params\n",
    "statedict_path = str(Path(\"statedicts\") / \"task_2c_lagrangian_nn_params.pkl\")\n",
    "with open(statedict_path, \"rb\") as f:\n",
    "    nn_params = dill.load(f)\n",
    "\n",
    "# import the learned discrete forward dynamics from lagrangian_nn.ipynb\n",
    "from ipynb.fs.full.lnn import discrete_forward_dynamics as lnn_discrete_forward_dynamics\n",
    "\n",
    "# transform lnn_discrete_forward_dynamics to behave to the following signature\n",
    "# th_next, th_d_next, th_dd = discrete_forward_dynamics(dt, th_curr, th_d_curr, tau)\n",
    "learned_discrete_forward_dynamics_fn = None\n",
    "# YOUR CODE HERE\n",
    "raise NotImplementedError()\n",
    "\n",
    "# simulate the learned dynamics\n",
    "# Hint: pass the `learned_discrete_forward_dynamics_fn` to the `simulate_robot` function.\n",
    "learned_sim_ts = None\n",
    "# YOUR CODE HERE\n",
    "raise NotImplementedError()\n",
    "\n",
    "rmse_th, rmse_th_d, rmse_th_dd = compute_configuration_space_rmse(\n",
    "    nominal_sim_ts, learned_sim_ts\n",
    ")\n",
    "rmse_x, rmse_x_d, rmse_x_dd = compute_operational_space_rmse(\n",
    "    nominal_sim_ts, learned_sim_ts\n",
    ")\n",
    "with jnp.printoptions(precision=3):\n",
    "    print(\n",
    "        \"RMSE theta:\",\n",
    "        rmse_th,\n",
    "        \"rad, RMSE theta_d:\",\n",
    "        rmse_th_d,\n",
    "        \"rad/s, RMSE theta_dd:\",\n",
    "        rmse_th_dd,\n",
    "        \"rad/s^2\",\n",
    "    )\n",
    "    print(\n",
    "        \"RMSE x:\",\n",
    "        f\"{jnp.linalg.norm(rmse_x):.4f}\",\n",
    "        \"m, RMSE x_d:\",\n",
    "        f\"{jnp.linalg.norm(rmse_x_d):.3f}\",\n",
    "        \"m/s, RMSE x_dd:\",\n",
    "        f\"{jnp.linalg.norm(rmse_x_dd):.2f}\",\n",
    "        \"m/s^2\",\n",
    "    )"
   ]
  },
  {
   "cell_type": "code",
   "execution_count": null,
   "id": "ade6580d",
   "metadata": {
    "deletable": false,
    "editable": false,
    "nbgrader": {
     "cell_type": "code",
     "checksum": "549abae2c142d11652aaebca7f376a84",
     "grade": true,
     "grade_id": "cell-6775d7682e022286",
     "locked": true,
     "points": 15,
     "schema_version": 3,
     "solution": false,
     "task": false
    }
   },
   "outputs": [],
   "source": [
    "# DO NOT REMOVE OR MODIFY THIS CELL\n",
    "\n",
    "rmse_th, rmse_th_d, rmse_th_dd = compute_configuration_space_rmse(\n",
    "    nominal_sim_ts, learned_sim_ts\n",
    ")\n",
    "rmse_x, rmse_x_d, rmse_x_dd = compute_operational_space_rmse(\n",
    "    nominal_sim_ts, learned_sim_ts\n",
    ")\n",
    "\n",
    "grader_max_impl_points = 3  # points for a correct implementation\n",
    "grader_max_perf_points = 12  # points for a good prediction performance\n",
    "\n",
    "rmse_x_norm = jnp.linalg.norm(rmse_x)  # achieved RMSE in operational space\n",
    "rmse_x_lb = 0.10  # m --> this will result in the full grade\n",
    "rmse_x_ub = 3.00  # m --> this will result in zero points for the prediction performance\n",
    "\n",
    "grader_perf_points = grader_max_perf_points * (\n",
    "    (1 - (rmse_x_norm - rmse_x_lb) / (rmse_x_ub - rmse_x_lb))\n",
    ")\n",
    "grader_perf_points = jnp.clip(grader_perf_points, 0, grader_max_perf_points).item()\n",
    "\n",
    "grader_points = grader_max_impl_points + grader_perf_points\n",
    "\n",
    "print(\n",
    "    f\"If you submit the assignment as it is, you will receive {grader_points} points.\"\n",
    ")\n",
    "\n",
    "\n",
    "grader_points"
   ]
  },
  {
   "cell_type": "code",
   "execution_count": null,
   "id": "64aa7684",
   "metadata": {
    "deletable": false,
    "editable": false,
    "nbgrader": {
     "cell_type": "code",
     "checksum": "3efdbd65e99dd705ee2659ab8251f653",
     "grade": false,
     "grade_id": "cell-b98127b8e645f17e",
     "locked": true,
     "schema_version": 3,
     "solution": false,
     "task": false
    }
   },
   "outputs": [],
   "source": [
    "# compare the learned against the nominal dynamics rollout in configuration space\n",
    "plot_rollout_learned_dynamics_configuration_space(\n",
    "    nominal_sim_ts,\n",
    "    learned_sim_ts,\n",
    "    filepath=str(\n",
    "        outputs_dir / \"task_2c-4_rollout_learned_dynamics_configuration_space.pdf\"\n",
    "    ),\n",
    ")"
   ]
  },
  {
   "cell_type": "code",
   "execution_count": null,
   "id": "7e451e84",
   "metadata": {
    "deletable": false,
    "editable": false,
    "nbgrader": {
     "cell_type": "code",
     "checksum": "d0cac489a5cb99de69d0f8dc8b726d1c",
     "grade": false,
     "grade_id": "cell-40fad34dad1a39d5",
     "locked": true,
     "schema_version": 3,
     "solution": false,
     "task": false
    }
   },
   "outputs": [],
   "source": [
    "# compare the learned against the nominal dynamics rollout in operational space\n",
    "plot_rollout_learned_dynamics_operational_space(\n",
    "    nominal_sim_ts,\n",
    "    learned_sim_ts,\n",
    "    filepath=str(\n",
    "        outputs_dir / \"task_2c-4_rollout_learned_dynamics_operational_space.pdf\"\n",
    "    ),\n",
    ")"
   ]
  },
  {
   "cell_type": "code",
   "execution_count": null,
   "id": "8b7e8d9d",
   "metadata": {
    "deletable": false,
    "editable": false,
    "nbgrader": {
     "cell_type": "code",
     "checksum": "93a7854db90b92e987339562c788e655",
     "grade": false,
     "grade_id": "cell-3f2af36650d7c398",
     "locked": true,
     "schema_version": 3,
     "solution": false,
     "task": false
    }
   },
   "outputs": [],
   "source": [
    "if not AUTOGRADING:\n",
    "    # animate the robot for both the learned and the nominal dynamics\n",
    "    # the nominal dynamics are plotted as \"End-effector trajectory\" and \"Robot state\"\n",
    "    # the learned dynamics are plotted as \"Est. end-effector traj.\" and \"Estimated robot state\"\n",
    "    ani = animate_robot(\n",
    "        ROBOT_PARAMS,\n",
    "        sim_ts=nominal_sim_ts,\n",
    "        sim_hat_ts=learned_sim_ts,\n",
    "        step_skip=5,\n",
    "        show=False,\n",
    "        filepath=str(outputs_dir / \"task_2c-4_rollout_learned_dynamics.mp4\"),\n",
    "    )\n",
    "    display(HTML(ani.to_html5_video()))"
   ]
  },
  {
   "cell_type": "code",
   "execution_count": null,
   "id": "6256c277",
   "metadata": {},
   "outputs": [],
   "source": []
  }
 ],
 "metadata": {
  "kernelspec": {
   "display_name": "Python 3 (ipykernel)",
   "language": "python",
   "name": "python3"
  },
  "language_info": {
   "codemirror_mode": {
    "name": "ipython",
    "version": 3
   },
   "file_extension": ".py",
   "mimetype": "text/x-python",
   "name": "python",
   "nbconvert_exporter": "python",
   "pygments_lexer": "ipython3",
   "version": "3.12.7"
  }
 },
 "nbformat": 4,
 "nbformat_minor": 5
}
