{
 "cells": [
  {
   "cell_type": "markdown",
   "id": "ac408b5e",
   "metadata": {
    "deletable": false,
    "editable": false,
    "nbgrader": {
     "cell_type": "markdown",
     "checksum": "cc639f114a2869c4d2f09a3fb9299a08",
     "grade": false,
     "grade_id": "cell-b00828259c8e42e8",
     "locked": true,
     "schema_version": 3,
     "solution": false,
     "task": false
    }
   },
   "source": [
    "# RO47019: Intelligent Control Systems Practical Assignment\n",
    "* Period: 2024-2025, Q4\n",
    "* Course homepage: https://brightspace.tudelft.nl/d2l/home/682445\n",
    "* Instructor: Cosimo Della Santina (C.DellaSantina@tudelft.nl)\n",
    "* Teaching assistant: Niels Stienen (N.L.Stienen@student.tudelft.nl)\n",
    "* (c) TU Delft, 2025\n",
    "\n",
    "Make sure you fill in any place that says `YOUR CODE HERE` or `YOUR ANSWER HERE` and remove `raise NotImplementedError()` afterwards. Moreover, if you see an empty cell, please **do not** delete it, instead run that cell as you would run all other cells. Finally, please **do not** add any extra cells to this notebook or change the existing cells unless you are explicitly asked to do so.\n",
    "\n",
    "Please fill in your name(s) and other required details below:"
   ]
  },
  {
   "cell_type": "code",
   "execution_count": null,
   "id": "4f9e220c",
   "metadata": {},
   "outputs": [],
   "source": [
    "# Please fill in your names, student numbers, netID, and emails below.\n",
    "STUDENT_1_NAME = \"\"\n",
    "STUDENT_1_STUDENT_NUMBER = \"\"\n",
    "STUDENT_1_NETID = \"\"\n",
    "STUDENT_1_EMAIL = \"\""
   ]
  },
  {
   "cell_type": "code",
   "execution_count": null,
   "id": "8ba32571",
   "metadata": {
    "deletable": false,
    "editable": false,
    "nbgrader": {
     "cell_type": "code",
     "checksum": "042927213b84aa368aa3ea72caa4cb60",
     "grade": true,
     "grade_id": "cell-9f148ec62e0de49c",
     "locked": true,
     "points": 0,
     "schema_version": 3,
     "solution": false,
     "task": false
    }
   },
   "outputs": [],
   "source": [
    "# Note: this block is a check that you have filled in the above information.\n",
    "# It will throw an AssertionError until all fields are filled\n",
    "assert STUDENT_1_NAME != \"\"\n",
    "assert STUDENT_1_STUDENT_NUMBER != \"\"\n",
    "assert STUDENT_1_NETID != \"\"\n",
    "assert STUDENT_1_EMAIL != \"\""
   ]
  },
  {
   "cell_type": "markdown",
   "id": "af317a94",
   "metadata": {
    "deletable": false,
    "editable": false,
    "nbgrader": {
     "cell_type": "markdown",
     "checksum": "e1ac82f761cd49715da5f2adb9bea9f2",
     "grade": false,
     "grade_id": "cell-4ea391677951116c",
     "locked": true,
     "schema_version": 3,
     "solution": false,
     "task": false
    }
   },
   "source": [
    "### General announcements\n",
    "\n",
    "* Do *not* share your solutions (also after the course is finished), and do *not* copy solutions from others. By submitting your solutions, you claim that you alone are responsible for this code.\n",
    "\n",
    "* Please post your questions regarding this assignment in the correct support forum on Brightspace, this way everybody can benefit from the response. Please note that it is **not** allowed to post any code relating to solution attempts. If you do have a particular question that you want to ask directly, please use the scheduled Q&A hours to ask the TA or if not possible otherwise, send an email to the instructor or TA.\n",
    "\n",
    "* This notebook will have in various places a line that throws a `NotImplementedError` exception. These are locations where the assignment requires you to adapt the code! These lines are just there as a reminder for you that you have not yet adapted that particular piece of code, especially when you execute all the cells. Once your solution code replaced these lines, it should accordingly *not* throw any exceptions anymore.\n",
    "\n",
    "* This [Jupyter notebook](https://jupyter.org/) uses `nbgrader` to help us with automated tests. `nbgrader` will make various cells in this notebook \"uneditable\" or \"unremovable\" and gives them a special id in the cell metadata. This way, when we run our checks, the system will check the existence of the cell ids and verify the number of points and which checks must be run. While there are ways that you can edit the metadata and work around the restrictions to delete or modify these special cells, you should not do that since then our nbgrader backend will not be able to parse your notebook and give you points for the assignment. \n",
    "\n",
    "* Please note that the above mentioned _read-only_ protection only works in Jupyter Notebook, and it does not work if you open this notebook in another editor (e.g., VSCode, PyCharm, etc.). Therefore, we recommend that you only use Jupyter Notebook for this course. If you use any other editor, you may accidentally delete cells, modify the tests, etc., which would cause you to lose points.\n",
    "\n",
    "* If you edit a function that is imported in another notebook, you need to **restart the kernel** of the notebook where you are using the function. Otherwise, the changes will not be effective.\n",
    "\n",
    "* **IMPORTANT**: Please make sure that your code executes without any errors before submitting the notebook. An easy way to ensure this is to use the validation script as described in the README."
   ]
  },
  {
   "cell_type": "code",
   "execution_count": null,
   "id": "3c956945",
   "metadata": {},
   "outputs": [],
   "source": []
  },
  {
   "cell_type": "markdown",
   "id": "176a210c",
   "metadata": {
    "deletable": false,
    "editable": false,
    "nbgrader": {
     "cell_type": "markdown",
     "checksum": "566f77535cb5e1f9eef472247b573e76",
     "grade": false,
     "grade_id": "cell-c7f59c759e82c493",
     "locked": true,
     "schema_version": 3,
     "solution": false,
     "task": false
    }
   },
   "source": [
    "# Classical model-based controllers for mechanical systems\n",
    "This file should solely contain the functions implementing the various feedback and feedforward controllers. After the implementing the controllers here, please run the Jupyter notebooks dedicated to each task for simulating the closed-loop system. In particular, this includes for Task 2.a:\n",
    "\n",
    "- `task_2a-1_pd_control.ipynb`\n",
    "- `task_2a-2_pd_plus_gravity_compensation_control.ipynb`\n",
    "- `task_2a-3_pd_plus_feedforward_control.ipynb`\n",
    "- `task_2a-4_pd_plus_control.ipynb`"
   ]
  },
  {
   "cell_type": "code",
   "execution_count": null,
   "id": "28a7b760",
   "metadata": {
    "deletable": false,
    "editable": false,
    "nbgrader": {
     "cell_type": "code",
     "checksum": "abc26a4677689f09fcf9c0feb3873a54",
     "grade": false,
     "grade_id": "cell-33c49e2547ae66bd",
     "locked": true,
     "schema_version": 3,
     "solution": false,
     "task": false
    }
   },
   "outputs": [],
   "source": [
    "# import dependencies\n",
    "from functools import partial\n",
    "from jax import Array, jit, random\n",
    "from jax import numpy as jnp\n",
    "from typing import Callable"
   ]
  },
  {
   "cell_type": "code",
   "execution_count": null,
   "id": "ea44dcec",
   "metadata": {
    "deletable": false,
    "nbgrader": {
     "cell_type": "code",
     "checksum": "f9f1e9a93f09ca0086e3dedf7bb26bcd",
     "grade": false,
     "grade_id": "A-ctrl_fb_pd",
     "locked": false,
     "schema_version": 3,
     "solution": true,
     "task": false
    }
   },
   "outputs": [],
   "source": [
    "@jit\n",
    "def ctrl_fb_pd(\n",
    "    th: Array,\n",
    "    th_d: Array,\n",
    "    th_des: Array,\n",
    "    th_d_des: Array,\n",
    "    kp: Array = jnp.zeros((2, 2)),\n",
    "    kd: Array = jnp.zeros((2, 2)),\n",
    "):\n",
    "    \"\"\"\n",
    "    PD feedback controller applied to error between target and actual absolute link angles.\n",
    "    Args:\n",
    "         th: link angles [rad] of shape (2, )\n",
    "         th_d: link velocities [rad/s] of shape (2, )\n",
    "         th_des: desired link angles [rad] of shape (2, )\n",
    "         th_d_des: desired link velocities [rad/s] of shape (2, )\n",
    "         kp: proportional gains of shape (2, 2)\n",
    "         kd: derivative gains of shape (2, 2)\n",
    "     Returns:\n",
    "         tau_fb: Link torques computed by the PD controller [Nm] of shape (2, )\n",
    "    \"\"\"\n",
    "    # YOUR CODE HERE\n",
    "    raise NotImplementedError()\n",
    "\n",
    "    return tau_fb"
   ]
  },
  {
   "cell_type": "code",
   "execution_count": null,
   "id": "545667ca-e8d0-4598-81cc-b20e7b25dc29",
   "metadata": {
    "deletable": false,
    "nbgrader": {
     "cell_type": "code",
     "checksum": "1946950d4e5dac8258590e9ca152bb03",
     "grade": false,
     "grade_id": "A-ctrl_fb_pd_rel",
     "locked": false,
     "schema_version": 3,
     "solution": true,
     "task": false
    }
   },
   "outputs": [],
   "source": [
    "@jit\n",
    "def ctrl_fb_pd_rel(\n",
    "    th: Array,\n",
    "    th_d: Array,\n",
    "    th_des: Array,\n",
    "    th_d_des: Array,\n",
    "    kp: Array = jnp.zeros((2, 2)),\n",
    "    kd: Array = jnp.zeros((2, 2)),\n",
    "):\n",
    "    \"\"\"\n",
    "    PD feedback controller applied to relative angles (i.e., joint angles)\n",
    "    Args:\n",
    "         th: link angles [rad] of shape (2, )\n",
    "         th_d: link velocities [rad/s] of shape (2, )\n",
    "         th_des: desired link angles [rad] of shape (2, )\n",
    "         th_d_des: desired link velocities [rad/s] of shape (2, )\n",
    "         kp: proportional gains of shape (2, 2)\n",
    "         kd: derivative gains of shape (2, 2)\n",
    "     Returns:\n",
    "         tau_fb_rel: Link torques computed by the PD controller [Nm] of shape (2, )\n",
    "    \"\"\"\n",
    "    # compute the relative angles and velocities\n",
    "    # th_rel =\n",
    "    # th_d_rel =\n",
    "    # th_des_rel =\n",
    "    # th_d_des_rel =\n",
    "    # YOUR CODE HERE\n",
    "    raise NotImplementedError()\n",
    "\n",
    "    # compute the PD torque based on the error of the joint angles and velocities\n",
    "    # tau_fb_rel =\n",
    "    # YOUR CODE HERE\n",
    "    raise NotImplementedError()\n",
    "\n",
    "    return tau_fb_rel"
   ]
  },
  {
   "cell_type": "code",
   "execution_count": null,
   "id": "34e2db13",
   "metadata": {
    "deletable": false,
    "nbgrader": {
     "cell_type": "code",
     "checksum": "92ed71dc04a5b7ed3efe148e2519fe2a",
     "grade": false,
     "grade_id": "A-ctr_ff_gravity_compensation",
     "locked": false,
     "schema_version": 3,
     "solution": true,
     "task": false
    }
   },
   "outputs": [],
   "source": [
    "@partial(\n",
    "    jit,\n",
    "    static_argnums=(0,),\n",
    "    static_argnames=(\"dynamical_matrices_fn\",),\n",
    ")\n",
    "def ctrl_ff_gravity_compensation(\n",
    "    dynamical_matrices_fn: Callable,\n",
    "    th: Array,\n",
    "    th_d: Array,\n",
    "    th_des: Array,\n",
    "    th_d_des: Array,\n",
    "    th_dd_des: Array,\n",
    ") -> Array:\n",
    "    \"\"\"\n",
    "    Computes the feed-forward control term for gravity compensation\n",
    "    Chapter 8.5.1 / Eq. (8.50) in \"Robotics: Modelling, Planning and Control\" by Siciliano et al.\n",
    "    Args:\n",
    "        dynamical_matrices_fn: function that computes the dynamical matrices of the system.\n",
    "            Needs to implement the following signature: M, C, G = dynamical_matrices_fn(th, th_d)\n",
    "        th: current link angles [rad] of shape (2, )\n",
    "        th_d: current link angular velocities [rad/s] of shape (2, )\n",
    "        th_des: desired link angles [rad] of shape (2, )\n",
    "        th_d_des: desired link angular velocities [rad/s] of shape (2, )\n",
    "        th_dd_des: desired link angular accelerations [rad/s^2] of shape (2, )\n",
    "\n",
    "    Returns:\n",
    "        tau_ff: feed-forward control torques [Nm] of shape (2, )\n",
    "    \"\"\"\n",
    "    # YOUR CODE HERE\n",
    "    raise NotImplementedError()\n",
    "\n",
    "    return tau_ff"
   ]
  },
  {
   "cell_type": "code",
   "execution_count": null,
   "id": "3e3ee800",
   "metadata": {
    "deletable": false,
    "nbgrader": {
     "cell_type": "code",
     "checksum": "6e883a6f7be01ab964d2f13d9d2ca872",
     "grade": false,
     "grade_id": "A-ctr_ff_pure_feedforward",
     "locked": false,
     "schema_version": 3,
     "solution": true,
     "task": false
    }
   },
   "outputs": [],
   "source": [
    "@partial(\n",
    "    jit,\n",
    "    static_argnums=(0,),\n",
    "    static_argnames=(\"dynamical_matrices_fn\",),\n",
    ")\n",
    "def ctrl_ff_feedforward(\n",
    "    dynamical_matrices_fn: Callable,\n",
    "    th: Array,\n",
    "    th_d: Array,\n",
    "    th_des: Array,\n",
    "    th_d_des: Array,\n",
    "    th_dd_des: Array,\n",
    ") -> Array:\n",
    "    \"\"\"\n",
    "    Computes the control actions of a feedforward controller, which solely relies on the\n",
    "    desired link angular accelerations, velocities and angles.\n",
    "\n",
    "    Args:\n",
    "        dynamical_matrices_fn: function that computes the dynamical matrices of the system.\n",
    "            Needs to implement the following signature: M, C, G = dynamical_matrices_fn(th, th_d)\n",
    "        th: current link angles [rad] of shape (2, )\n",
    "        th_d: current link angular velocities [rad/s] of shape (2, )\n",
    "        th_des: desired link angles [rad] of shape (2, )\n",
    "        th_d_des: desired link angular velocities [rad/s] of shape (2, )\n",
    "        th_dd_des: desired link angular accelerations [rad/s^2] of shape (2, )\n",
    "\n",
    "    Returns:\n",
    "        tau_ff: feed-forward control torques [Nm] of shape (2, )\n",
    "    \"\"\"\n",
    "    # YOUR CODE HERE\n",
    "    raise NotImplementedError()\n",
    "\n",
    "    return tau_ff"
   ]
  },
  {
   "cell_type": "code",
   "execution_count": null,
   "id": "235dbe77",
   "metadata": {
    "deletable": false,
    "nbgrader": {
     "cell_type": "code",
     "checksum": "d113da525a29412cc1b7e13d846a136a",
     "grade": false,
     "grade_id": "A-ctr_ff_pd_plus",
     "locked": false,
     "schema_version": 3,
     "solution": true,
     "task": false
    }
   },
   "outputs": [],
   "source": [
    "@partial(\n",
    "    jit,\n",
    "    static_argnums=(0,),\n",
    "    static_argnames=(\"dynamical_matrices_fn\",),\n",
    ")\n",
    "def ctrl_ff_pd_plus(\n",
    "    dynamical_matrices_fn: Callable,\n",
    "    th: Array,\n",
    "    th_d: Array,\n",
    "    th_des: Array,\n",
    "    th_d_des: Array,\n",
    "    th_dd_des: Array,\n",
    ") -> Array:\n",
    "    \"\"\"\n",
    "    Computes the mixed feed-forward control term for PD+ control,\n",
    "    which compensates the dynamics by evaluating the model at the current system state.\n",
    "    This corresponds to the Paden and Panja Scheme, as described in Chapter 7.3.4 / E. (7.62) of\n",
    "    \"Brogliato, Bernard, et al. \"Dissipative systems analysis and control.\" Theory and Applications 2 (2007): 2-5.\"\n",
    "    for the trajectory tracking case.\n",
    "\n",
    "    Args:\n",
    "        dynamical_matrices_fn: function that computes the dynamical matrices of the system.\n",
    "            Needs to implement the following signature: M, C, G = dynamical_matrices_fn(th, th_d)\n",
    "        th: current link angles [rad] of shape (2, )\n",
    "        th_d: current link angular velocities [rad/s] of shape (2, )\n",
    "        th_des: desired link angles [rad] of shape (2, )\n",
    "        th_d_des: desired link angular velocities [rad/s] of shape (2, )\n",
    "        th_dd_des: desired link angular accelerations [rad/s^2] of shape (2, )\n",
    "\n",
    "    Returns:\n",
    "        tau_ff: feed-forward control torques [Nm] of shape (2, )\n",
    "    \"\"\"\n",
    "    # YOUR CODE HERE\n",
    "    raise NotImplementedError()\n",
    "\n",
    "    return tau_ff"
   ]
  },
  {
   "cell_type": "code",
   "execution_count": null,
   "id": "89f2ad0b",
   "metadata": {},
   "outputs": [],
   "source": []
  }
 ],
 "metadata": {
  "kernelspec": {
   "display_name": "Python 3 (ipykernel)",
   "language": "python",
   "name": "python3"
  },
  "language_info": {
   "codemirror_mode": {
    "name": "ipython",
    "version": 3
   },
   "file_extension": ".py",
   "mimetype": "text/x-python",
   "name": "python",
   "nbconvert_exporter": "python",
   "pygments_lexer": "ipython3",
   "version": "3.12.7"
  }
 },
 "nbformat": 4,
 "nbformat_minor": 5
}
